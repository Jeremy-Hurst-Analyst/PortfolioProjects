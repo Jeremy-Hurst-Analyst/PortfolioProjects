{
 "cells": [
  {
   "cell_type": "code",
   "execution_count": 1,
   "id": "277f88fa",
   "metadata": {
    "_cell_guid": "b1076dfc-b9ad-4769-8c92-a6c4dae69d19",
    "_uuid": "8f2839f25d086af736a60e9eeb907d3b93b6e0e5",
    "execution": {
     "iopub.execute_input": "2021-10-22T21:52:19.267244Z",
     "iopub.status.busy": "2021-10-22T21:52:19.266231Z",
     "iopub.status.idle": "2021-10-22T21:52:19.291643Z",
     "shell.execute_reply": "2021-10-22T21:52:19.292266Z",
     "shell.execute_reply.started": "2021-10-22T19:58:36.278011Z"
    },
    "papermill": {
     "duration": 0.077059,
     "end_time": "2021-10-22T21:52:19.292690",
     "exception": false,
     "start_time": "2021-10-22T21:52:19.215631",
     "status": "completed"
    },
    "tags": []
   },
   "outputs": [
    {
     "name": "stdout",
     "output_type": "stream",
     "text": [
      "/kaggle/input/sales-forecasting/train.csv\n"
     ]
    }
   ],
   "source": [
    "# This Python 3 environment comes with many helpful analytics libraries installed\n",
    "# It is defined by the kaggle/python Docker image: https://github.com/kaggle/docker-python\n",
    "# For example, here's several helpful packages to load\n",
    "\n",
    "import numpy as np # linear algebra\n",
    "import pandas as pd # data processing, CSV file I/O (e.g. pd.read_csv)\n",
    "\n",
    "# Input data files are available in the read-only \"../input/\" directory\n",
    "# For example, running this (by clicking run or pressing Shift+Enter) will list all files under the input directory\n",
    "\n",
    "import os\n",
    "for dirname, _, filenames in os.walk('/kaggle/input'):\n",
    "    for filename in filenames:\n",
    "        print(os.path.join(dirname, filename))\n",
    "\n",
    "# You can write up to 20GB to the current directory (/kaggle/working/) that gets preserved as output when you create a version using \"Save & Run All\" \n",
    "# You can also write temporary files to /kaggle/temp/, but they won't be saved outside of the current session"
   ]
  },
  {
   "cell_type": "code",
   "execution_count": 2,
   "id": "109b3358",
   "metadata": {
    "execution": {
     "iopub.execute_input": "2021-10-22T21:52:19.350334Z",
     "iopub.status.busy": "2021-10-22T21:52:19.349326Z",
     "iopub.status.idle": "2021-10-22T21:52:20.406867Z",
     "shell.execute_reply": "2021-10-22T21:52:20.406216Z",
     "shell.execute_reply.started": "2021-10-22T19:58:36.316848Z"
    },
    "papermill": {
     "duration": 1.086974,
     "end_time": "2021-10-22T21:52:20.407040",
     "exception": false,
     "start_time": "2021-10-22T21:52:19.320066",
     "status": "completed"
    },
    "tags": []
   },
   "outputs": [],
   "source": [
    "#import libraries\n",
    "# importing required libraries\n",
    "import pandas as pd\n",
    "import numpy as np\n",
    "import seaborn as sns\n",
    "import datetime as dt\n",
    "import matplotlib.pyplot as plt\n",
    "%matplotlib inline"
   ]
  },
  {
   "cell_type": "code",
   "execution_count": 3,
   "id": "44e7a980",
   "metadata": {
    "execution": {
     "iopub.execute_input": "2021-10-22T21:52:20.463661Z",
     "iopub.status.busy": "2021-10-22T21:52:20.462933Z",
     "iopub.status.idle": "2021-10-22T21:52:20.571435Z",
     "shell.execute_reply": "2021-10-22T21:52:20.570768Z",
     "shell.execute_reply.started": "2021-10-22T19:58:37.235515Z"
    },
    "papermill": {
     "duration": 0.137992,
     "end_time": "2021-10-22T21:52:20.571616",
     "exception": false,
     "start_time": "2021-10-22T21:52:20.433624",
     "status": "completed"
    },
    "tags": []
   },
   "outputs": [],
   "source": [
    "#Read in CSV\n",
    "df = pd.read_csv('../input/sales-forecasting/train.csv')"
   ]
  },
  {
   "cell_type": "code",
   "execution_count": 4,
   "id": "544c09ce",
   "metadata": {
    "execution": {
     "iopub.execute_input": "2021-10-22T21:52:20.633573Z",
     "iopub.status.busy": "2021-10-22T21:52:20.632829Z",
     "iopub.status.idle": "2021-10-22T21:52:20.658926Z",
     "shell.execute_reply": "2021-10-22T21:52:20.659455Z",
     "shell.execute_reply.started": "2021-10-22T19:58:37.342860Z"
    },
    "papermill": {
     "duration": 0.06138,
     "end_time": "2021-10-22T21:52:20.659639",
     "exception": false,
     "start_time": "2021-10-22T21:52:20.598259",
     "status": "completed"
    },
    "tags": []
   },
   "outputs": [
    {
     "data": {
      "text/html": [
       "<div>\n",
       "<style scoped>\n",
       "    .dataframe tbody tr th:only-of-type {\n",
       "        vertical-align: middle;\n",
       "    }\n",
       "\n",
       "    .dataframe tbody tr th {\n",
       "        vertical-align: top;\n",
       "    }\n",
       "\n",
       "    .dataframe thead th {\n",
       "        text-align: right;\n",
       "    }\n",
       "</style>\n",
       "<table border=\"1\" class=\"dataframe\">\n",
       "  <thead>\n",
       "    <tr style=\"text-align: right;\">\n",
       "      <th></th>\n",
       "      <th>Row ID</th>\n",
       "      <th>Order ID</th>\n",
       "      <th>Order Date</th>\n",
       "      <th>Ship Date</th>\n",
       "      <th>Ship Mode</th>\n",
       "      <th>Customer ID</th>\n",
       "      <th>Customer Name</th>\n",
       "      <th>Segment</th>\n",
       "      <th>Country</th>\n",
       "      <th>City</th>\n",
       "      <th>State</th>\n",
       "      <th>Postal Code</th>\n",
       "      <th>Region</th>\n",
       "      <th>Product ID</th>\n",
       "      <th>Category</th>\n",
       "      <th>Sub-Category</th>\n",
       "      <th>Product Name</th>\n",
       "      <th>Sales</th>\n",
       "    </tr>\n",
       "  </thead>\n",
       "  <tbody>\n",
       "    <tr>\n",
       "      <th>0</th>\n",
       "      <td>1</td>\n",
       "      <td>CA-2017-152156</td>\n",
       "      <td>08/11/2017</td>\n",
       "      <td>11/11/2017</td>\n",
       "      <td>Second Class</td>\n",
       "      <td>CG-12520</td>\n",
       "      <td>Claire Gute</td>\n",
       "      <td>Consumer</td>\n",
       "      <td>United States</td>\n",
       "      <td>Henderson</td>\n",
       "      <td>Kentucky</td>\n",
       "      <td>42420.0</td>\n",
       "      <td>South</td>\n",
       "      <td>FUR-BO-10001798</td>\n",
       "      <td>Furniture</td>\n",
       "      <td>Bookcases</td>\n",
       "      <td>Bush Somerset Collection Bookcase</td>\n",
       "      <td>261.9600</td>\n",
       "    </tr>\n",
       "    <tr>\n",
       "      <th>1</th>\n",
       "      <td>2</td>\n",
       "      <td>CA-2017-152156</td>\n",
       "      <td>08/11/2017</td>\n",
       "      <td>11/11/2017</td>\n",
       "      <td>Second Class</td>\n",
       "      <td>CG-12520</td>\n",
       "      <td>Claire Gute</td>\n",
       "      <td>Consumer</td>\n",
       "      <td>United States</td>\n",
       "      <td>Henderson</td>\n",
       "      <td>Kentucky</td>\n",
       "      <td>42420.0</td>\n",
       "      <td>South</td>\n",
       "      <td>FUR-CH-10000454</td>\n",
       "      <td>Furniture</td>\n",
       "      <td>Chairs</td>\n",
       "      <td>Hon Deluxe Fabric Upholstered Stacking Chairs,...</td>\n",
       "      <td>731.9400</td>\n",
       "    </tr>\n",
       "    <tr>\n",
       "      <th>2</th>\n",
       "      <td>3</td>\n",
       "      <td>CA-2017-138688</td>\n",
       "      <td>12/06/2017</td>\n",
       "      <td>16/06/2017</td>\n",
       "      <td>Second Class</td>\n",
       "      <td>DV-13045</td>\n",
       "      <td>Darrin Van Huff</td>\n",
       "      <td>Corporate</td>\n",
       "      <td>United States</td>\n",
       "      <td>Los Angeles</td>\n",
       "      <td>California</td>\n",
       "      <td>90036.0</td>\n",
       "      <td>West</td>\n",
       "      <td>OFF-LA-10000240</td>\n",
       "      <td>Office Supplies</td>\n",
       "      <td>Labels</td>\n",
       "      <td>Self-Adhesive Address Labels for Typewriters b...</td>\n",
       "      <td>14.6200</td>\n",
       "    </tr>\n",
       "    <tr>\n",
       "      <th>3</th>\n",
       "      <td>4</td>\n",
       "      <td>US-2016-108966</td>\n",
       "      <td>11/10/2016</td>\n",
       "      <td>18/10/2016</td>\n",
       "      <td>Standard Class</td>\n",
       "      <td>SO-20335</td>\n",
       "      <td>Sean O'Donnell</td>\n",
       "      <td>Consumer</td>\n",
       "      <td>United States</td>\n",
       "      <td>Fort Lauderdale</td>\n",
       "      <td>Florida</td>\n",
       "      <td>33311.0</td>\n",
       "      <td>South</td>\n",
       "      <td>FUR-TA-10000577</td>\n",
       "      <td>Furniture</td>\n",
       "      <td>Tables</td>\n",
       "      <td>Bretford CR4500 Series Slim Rectangular Table</td>\n",
       "      <td>957.5775</td>\n",
       "    </tr>\n",
       "    <tr>\n",
       "      <th>4</th>\n",
       "      <td>5</td>\n",
       "      <td>US-2016-108966</td>\n",
       "      <td>11/10/2016</td>\n",
       "      <td>18/10/2016</td>\n",
       "      <td>Standard Class</td>\n",
       "      <td>SO-20335</td>\n",
       "      <td>Sean O'Donnell</td>\n",
       "      <td>Consumer</td>\n",
       "      <td>United States</td>\n",
       "      <td>Fort Lauderdale</td>\n",
       "      <td>Florida</td>\n",
       "      <td>33311.0</td>\n",
       "      <td>South</td>\n",
       "      <td>OFF-ST-10000760</td>\n",
       "      <td>Office Supplies</td>\n",
       "      <td>Storage</td>\n",
       "      <td>Eldon Fold 'N Roll Cart System</td>\n",
       "      <td>22.3680</td>\n",
       "    </tr>\n",
       "  </tbody>\n",
       "</table>\n",
       "</div>"
      ],
      "text/plain": [
       "   Row ID        Order ID  Order Date   Ship Date       Ship Mode Customer ID  \\\n",
       "0       1  CA-2017-152156  08/11/2017  11/11/2017    Second Class    CG-12520   \n",
       "1       2  CA-2017-152156  08/11/2017  11/11/2017    Second Class    CG-12520   \n",
       "2       3  CA-2017-138688  12/06/2017  16/06/2017    Second Class    DV-13045   \n",
       "3       4  US-2016-108966  11/10/2016  18/10/2016  Standard Class    SO-20335   \n",
       "4       5  US-2016-108966  11/10/2016  18/10/2016  Standard Class    SO-20335   \n",
       "\n",
       "     Customer Name    Segment        Country             City       State  \\\n",
       "0      Claire Gute   Consumer  United States        Henderson    Kentucky   \n",
       "1      Claire Gute   Consumer  United States        Henderson    Kentucky   \n",
       "2  Darrin Van Huff  Corporate  United States      Los Angeles  California   \n",
       "3   Sean O'Donnell   Consumer  United States  Fort Lauderdale     Florida   \n",
       "4   Sean O'Donnell   Consumer  United States  Fort Lauderdale     Florida   \n",
       "\n",
       "   Postal Code Region       Product ID         Category Sub-Category  \\\n",
       "0      42420.0  South  FUR-BO-10001798        Furniture    Bookcases   \n",
       "1      42420.0  South  FUR-CH-10000454        Furniture       Chairs   \n",
       "2      90036.0   West  OFF-LA-10000240  Office Supplies       Labels   \n",
       "3      33311.0  South  FUR-TA-10000577        Furniture       Tables   \n",
       "4      33311.0  South  OFF-ST-10000760  Office Supplies      Storage   \n",
       "\n",
       "                                        Product Name     Sales  \n",
       "0                  Bush Somerset Collection Bookcase  261.9600  \n",
       "1  Hon Deluxe Fabric Upholstered Stacking Chairs,...  731.9400  \n",
       "2  Self-Adhesive Address Labels for Typewriters b...   14.6200  \n",
       "3      Bretford CR4500 Series Slim Rectangular Table  957.5775  \n",
       "4                     Eldon Fold 'N Roll Cart System   22.3680  "
      ]
     },
     "execution_count": 4,
     "metadata": {},
     "output_type": "execute_result"
    }
   ],
   "source": [
    "#peak at data\n",
    "df.head()"
   ]
  },
  {
   "cell_type": "code",
   "execution_count": 5,
   "id": "f5d0317f",
   "metadata": {
    "execution": {
     "iopub.execute_input": "2021-10-22T21:52:20.716895Z",
     "iopub.status.busy": "2021-10-22T21:52:20.716214Z",
     "iopub.status.idle": "2021-10-22T21:52:20.759636Z",
     "shell.execute_reply": "2021-10-22T21:52:20.759061Z",
     "shell.execute_reply.started": "2021-10-22T19:58:37.379082Z"
    },
    "papermill": {
     "duration": 0.072921,
     "end_time": "2021-10-22T21:52:20.759781",
     "exception": false,
     "start_time": "2021-10-22T21:52:20.686860",
     "status": "completed"
    },
    "tags": []
   },
   "outputs": [
    {
     "name": "stdout",
     "output_type": "stream",
     "text": [
      "<class 'pandas.core.frame.DataFrame'>\n",
      "RangeIndex: 9800 entries, 0 to 9799\n",
      "Data columns (total 18 columns):\n",
      " #   Column         Non-Null Count  Dtype  \n",
      "---  ------         --------------  -----  \n",
      " 0   Row ID         9800 non-null   int64  \n",
      " 1   Order ID       9800 non-null   object \n",
      " 2   Order Date     9800 non-null   object \n",
      " 3   Ship Date      9800 non-null   object \n",
      " 4   Ship Mode      9800 non-null   object \n",
      " 5   Customer ID    9800 non-null   object \n",
      " 6   Customer Name  9800 non-null   object \n",
      " 7   Segment        9800 non-null   object \n",
      " 8   Country        9800 non-null   object \n",
      " 9   City           9800 non-null   object \n",
      " 10  State          9800 non-null   object \n",
      " 11  Postal Code    9789 non-null   float64\n",
      " 12  Region         9800 non-null   object \n",
      " 13  Product ID     9800 non-null   object \n",
      " 14  Category       9800 non-null   object \n",
      " 15  Sub-Category   9800 non-null   object \n",
      " 16  Product Name   9800 non-null   object \n",
      " 17  Sales          9800 non-null   float64\n",
      "dtypes: float64(2), int64(1), object(15)\n",
      "memory usage: 1.3+ MB\n"
     ]
    }
   ],
   "source": [
    "#check out column and datatype info\n",
    "df.info()"
   ]
  },
  {
   "cell_type": "code",
   "execution_count": 6,
   "id": "99877f21",
   "metadata": {
    "execution": {
     "iopub.execute_input": "2021-10-22T21:52:20.821431Z",
     "iopub.status.busy": "2021-10-22T21:52:20.820704Z",
     "iopub.status.idle": "2021-10-22T21:52:20.830809Z",
     "shell.execute_reply": "2021-10-22T21:52:20.831402Z",
     "shell.execute_reply.started": "2021-10-22T19:58:37.424971Z"
    },
    "papermill": {
     "duration": 0.044362,
     "end_time": "2021-10-22T21:52:20.831595",
     "exception": false,
     "start_time": "2021-10-22T21:52:20.787233",
     "status": "completed"
    },
    "tags": []
   },
   "outputs": [],
   "source": [
    "#convert order date to datetime\n",
    "df['Order Date'] = df['Order Date'].astype('datetime64[ns]')"
   ]
  },
  {
   "cell_type": "code",
   "execution_count": 7,
   "id": "8c9eeee6",
   "metadata": {
    "execution": {
     "iopub.execute_input": "2021-10-22T21:52:20.892258Z",
     "iopub.status.busy": "2021-10-22T21:52:20.891209Z",
     "iopub.status.idle": "2021-10-22T21:52:20.903552Z",
     "shell.execute_reply": "2021-10-22T21:52:20.902833Z",
     "shell.execute_reply.started": "2021-10-22T19:58:37.442932Z"
    },
    "papermill": {
     "duration": 0.044809,
     "end_time": "2021-10-22T21:52:20.903711",
     "exception": false,
     "start_time": "2021-10-22T21:52:20.858902",
     "status": "completed"
    },
    "tags": []
   },
   "outputs": [],
   "source": [
    "#convert ship date to datetime\n",
    "df['Ship Date'] = df['Ship Date'].astype('datetime64[ns]')"
   ]
  },
  {
   "cell_type": "code",
   "execution_count": 8,
   "id": "08165dfe",
   "metadata": {
    "execution": {
     "iopub.execute_input": "2021-10-22T21:52:20.963879Z",
     "iopub.status.busy": "2021-10-22T21:52:20.963146Z",
     "iopub.status.idle": "2021-10-22T21:52:20.969095Z",
     "shell.execute_reply": "2021-10-22T21:52:20.969573Z",
     "shell.execute_reply.started": "2021-10-22T19:58:37.457263Z"
    },
    "papermill": {
     "duration": 0.038767,
     "end_time": "2021-10-22T21:52:20.969756",
     "exception": false,
     "start_time": "2021-10-22T21:52:20.930989",
     "status": "completed"
    },
    "tags": []
   },
   "outputs": [],
   "source": [
    "#drop row id\n",
    "df.drop('Row ID', axis=1, inplace=True)"
   ]
  },
  {
   "cell_type": "code",
   "execution_count": 9,
   "id": "3ed88b0b",
   "metadata": {
    "execution": {
     "iopub.execute_input": "2021-10-22T21:52:21.028267Z",
     "iopub.status.busy": "2021-10-22T21:52:21.027578Z",
     "iopub.status.idle": "2021-10-22T21:52:21.032912Z",
     "shell.execute_reply": "2021-10-22T21:52:21.033432Z",
     "shell.execute_reply.started": "2021-10-22T19:58:37.471659Z"
    },
    "papermill": {
     "duration": 0.036057,
     "end_time": "2021-10-22T21:52:21.033614",
     "exception": false,
     "start_time": "2021-10-22T21:52:20.997557",
     "status": "completed"
    },
    "tags": []
   },
   "outputs": [],
   "source": [
    "#rename columns, getting rid of spaces\n",
    "df.rename(columns={'Order ID':'Order_ID', 'Order Date':'Order_Date', 'Ship Date':'Ship_Date', 'Ship Mode':'Ship_Mode', 'Customer ID':'Customer_ID', 'Customer Name':'Customer_Name', 'Postal Code':'Postal_Code', 'Product ID':'Product_ID', 'Sub-Category':'Sub_Category', 'Product Name':'Product_Name'}, inplace=True)"
   ]
  },
  {
   "cell_type": "code",
   "execution_count": 10,
   "id": "2860b317",
   "metadata": {
    "execution": {
     "iopub.execute_input": "2021-10-22T21:52:21.107947Z",
     "iopub.status.busy": "2021-10-22T21:52:21.091665Z",
     "iopub.status.idle": "2021-10-22T21:52:21.115526Z",
     "shell.execute_reply": "2021-10-22T21:52:21.116051Z",
     "shell.execute_reply.started": "2021-10-22T19:58:37.481256Z"
    },
    "papermill": {
     "duration": 0.054506,
     "end_time": "2021-10-22T21:52:21.116239",
     "exception": false,
     "start_time": "2021-10-22T21:52:21.061733",
     "status": "completed"
    },
    "tags": []
   },
   "outputs": [
    {
     "data": {
      "text/plain": [
       "Order_ID          0\n",
       "Order_Date        0\n",
       "Ship_Date         0\n",
       "Ship_Mode         0\n",
       "Customer_ID       0\n",
       "Customer_Name     0\n",
       "Segment           0\n",
       "Country           0\n",
       "City              0\n",
       "State             0\n",
       "Postal_Code      11\n",
       "Region            0\n",
       "Product_ID        0\n",
       "Category          0\n",
       "Sub_Category      0\n",
       "Product_Name      0\n",
       "Sales             0\n",
       "dtype: int64"
      ]
     },
     "execution_count": 10,
     "metadata": {},
     "output_type": "execute_result"
    }
   ],
   "source": [
    "#check for null values\n",
    "df.isnull().sum()"
   ]
  },
  {
   "cell_type": "code",
   "execution_count": 11,
   "id": "a3c93f08",
   "metadata": {
    "execution": {
     "iopub.execute_input": "2021-10-22T21:52:21.175449Z",
     "iopub.status.busy": "2021-10-22T21:52:21.174748Z",
     "iopub.status.idle": "2021-10-22T21:52:21.194087Z",
     "shell.execute_reply": "2021-10-22T21:52:21.194685Z",
     "shell.execute_reply.started": "2021-10-22T19:58:37.513364Z"
    },
    "papermill": {
     "duration": 0.050841,
     "end_time": "2021-10-22T21:52:21.194891",
     "exception": false,
     "start_time": "2021-10-22T21:52:21.144050",
     "status": "completed"
    },
    "tags": []
   },
   "outputs": [],
   "source": [
    "#There are 11 Postal_Code values missing. Let's take a look\n",
    "dfnull = df[df.isna().any(axis=1)]"
   ]
  },
  {
   "cell_type": "code",
   "execution_count": 12,
   "id": "9e628e52",
   "metadata": {
    "execution": {
     "iopub.execute_input": "2021-10-22T21:52:21.253958Z",
     "iopub.status.busy": "2021-10-22T21:52:21.253217Z",
     "iopub.status.idle": "2021-10-22T21:52:21.277187Z",
     "shell.execute_reply": "2021-10-22T21:52:21.276487Z",
     "shell.execute_reply.started": "2021-10-22T19:58:37.538806Z"
    },
    "papermill": {
     "duration": 0.054635,
     "end_time": "2021-10-22T21:52:21.277327",
     "exception": false,
     "start_time": "2021-10-22T21:52:21.222692",
     "status": "completed"
    },
    "tags": []
   },
   "outputs": [
    {
     "data": {
      "text/html": [
       "<div>\n",
       "<style scoped>\n",
       "    .dataframe tbody tr th:only-of-type {\n",
       "        vertical-align: middle;\n",
       "    }\n",
       "\n",
       "    .dataframe tbody tr th {\n",
       "        vertical-align: top;\n",
       "    }\n",
       "\n",
       "    .dataframe thead th {\n",
       "        text-align: right;\n",
       "    }\n",
       "</style>\n",
       "<table border=\"1\" class=\"dataframe\">\n",
       "  <thead>\n",
       "    <tr style=\"text-align: right;\">\n",
       "      <th></th>\n",
       "      <th>Order_ID</th>\n",
       "      <th>Order_Date</th>\n",
       "      <th>Ship_Date</th>\n",
       "      <th>Ship_Mode</th>\n",
       "      <th>Customer_ID</th>\n",
       "      <th>Customer_Name</th>\n",
       "      <th>Segment</th>\n",
       "      <th>Country</th>\n",
       "      <th>City</th>\n",
       "      <th>State</th>\n",
       "      <th>Postal_Code</th>\n",
       "      <th>Region</th>\n",
       "      <th>Product_ID</th>\n",
       "      <th>Category</th>\n",
       "      <th>Sub_Category</th>\n",
       "      <th>Product_Name</th>\n",
       "      <th>Sales</th>\n",
       "    </tr>\n",
       "  </thead>\n",
       "  <tbody>\n",
       "    <tr>\n",
       "      <th>2234</th>\n",
       "      <td>CA-2018-104066</td>\n",
       "      <td>2018-05-12</td>\n",
       "      <td>2018-10-12</td>\n",
       "      <td>Standard Class</td>\n",
       "      <td>QJ-19255</td>\n",
       "      <td>Quincy Jones</td>\n",
       "      <td>Corporate</td>\n",
       "      <td>United States</td>\n",
       "      <td>Burlington</td>\n",
       "      <td>Vermont</td>\n",
       "      <td>NaN</td>\n",
       "      <td>East</td>\n",
       "      <td>TEC-AC-10001013</td>\n",
       "      <td>Technology</td>\n",
       "      <td>Accessories</td>\n",
       "      <td>Logitech ClearChat Comfort/USB Headset H390</td>\n",
       "      <td>205.03</td>\n",
       "    </tr>\n",
       "    <tr>\n",
       "      <th>5274</th>\n",
       "      <td>CA-2016-162887</td>\n",
       "      <td>2016-07-11</td>\n",
       "      <td>2016-09-11</td>\n",
       "      <td>Second Class</td>\n",
       "      <td>SV-20785</td>\n",
       "      <td>Stewart Visinsky</td>\n",
       "      <td>Consumer</td>\n",
       "      <td>United States</td>\n",
       "      <td>Burlington</td>\n",
       "      <td>Vermont</td>\n",
       "      <td>NaN</td>\n",
       "      <td>East</td>\n",
       "      <td>FUR-CH-10000595</td>\n",
       "      <td>Furniture</td>\n",
       "      <td>Chairs</td>\n",
       "      <td>Safco Contoured Stacking Chairs</td>\n",
       "      <td>715.20</td>\n",
       "    </tr>\n",
       "    <tr>\n",
       "      <th>8798</th>\n",
       "      <td>US-2017-150140</td>\n",
       "      <td>2017-06-04</td>\n",
       "      <td>2017-10-04</td>\n",
       "      <td>Standard Class</td>\n",
       "      <td>VM-21685</td>\n",
       "      <td>Valerie Mitchum</td>\n",
       "      <td>Home Office</td>\n",
       "      <td>United States</td>\n",
       "      <td>Burlington</td>\n",
       "      <td>Vermont</td>\n",
       "      <td>NaN</td>\n",
       "      <td>East</td>\n",
       "      <td>TEC-PH-10002555</td>\n",
       "      <td>Technology</td>\n",
       "      <td>Phones</td>\n",
       "      <td>Nortel Meridian M5316 Digital phone</td>\n",
       "      <td>1294.75</td>\n",
       "    </tr>\n",
       "    <tr>\n",
       "      <th>9146</th>\n",
       "      <td>US-2017-165505</td>\n",
       "      <td>2017-01-23</td>\n",
       "      <td>2017-01-27</td>\n",
       "      <td>Standard Class</td>\n",
       "      <td>CB-12535</td>\n",
       "      <td>Claudia Bergmann</td>\n",
       "      <td>Corporate</td>\n",
       "      <td>United States</td>\n",
       "      <td>Burlington</td>\n",
       "      <td>Vermont</td>\n",
       "      <td>NaN</td>\n",
       "      <td>East</td>\n",
       "      <td>TEC-AC-10002926</td>\n",
       "      <td>Technology</td>\n",
       "      <td>Accessories</td>\n",
       "      <td>Logitech Wireless Marathon Mouse M705</td>\n",
       "      <td>99.98</td>\n",
       "    </tr>\n",
       "    <tr>\n",
       "      <th>9147</th>\n",
       "      <td>US-2017-165505</td>\n",
       "      <td>2017-01-23</td>\n",
       "      <td>2017-01-27</td>\n",
       "      <td>Standard Class</td>\n",
       "      <td>CB-12535</td>\n",
       "      <td>Claudia Bergmann</td>\n",
       "      <td>Corporate</td>\n",
       "      <td>United States</td>\n",
       "      <td>Burlington</td>\n",
       "      <td>Vermont</td>\n",
       "      <td>NaN</td>\n",
       "      <td>East</td>\n",
       "      <td>OFF-AR-10003477</td>\n",
       "      <td>Office Supplies</td>\n",
       "      <td>Art</td>\n",
       "      <td>4009 Highlighters</td>\n",
       "      <td>8.04</td>\n",
       "    </tr>\n",
       "    <tr>\n",
       "      <th>9148</th>\n",
       "      <td>US-2017-165505</td>\n",
       "      <td>2017-01-23</td>\n",
       "      <td>2017-01-27</td>\n",
       "      <td>Standard Class</td>\n",
       "      <td>CB-12535</td>\n",
       "      <td>Claudia Bergmann</td>\n",
       "      <td>Corporate</td>\n",
       "      <td>United States</td>\n",
       "      <td>Burlington</td>\n",
       "      <td>Vermont</td>\n",
       "      <td>NaN</td>\n",
       "      <td>East</td>\n",
       "      <td>OFF-ST-10001526</td>\n",
       "      <td>Office Supplies</td>\n",
       "      <td>Storage</td>\n",
       "      <td>Iceberg Mobile Mega Data/Printer Cart</td>\n",
       "      <td>1564.29</td>\n",
       "    </tr>\n",
       "    <tr>\n",
       "      <th>9386</th>\n",
       "      <td>US-2018-127292</td>\n",
       "      <td>2018-01-19</td>\n",
       "      <td>2018-01-23</td>\n",
       "      <td>Standard Class</td>\n",
       "      <td>RM-19375</td>\n",
       "      <td>Raymond Messe</td>\n",
       "      <td>Consumer</td>\n",
       "      <td>United States</td>\n",
       "      <td>Burlington</td>\n",
       "      <td>Vermont</td>\n",
       "      <td>NaN</td>\n",
       "      <td>East</td>\n",
       "      <td>OFF-PA-10000157</td>\n",
       "      <td>Office Supplies</td>\n",
       "      <td>Paper</td>\n",
       "      <td>Xerox 191</td>\n",
       "      <td>79.92</td>\n",
       "    </tr>\n",
       "    <tr>\n",
       "      <th>9387</th>\n",
       "      <td>US-2018-127292</td>\n",
       "      <td>2018-01-19</td>\n",
       "      <td>2018-01-23</td>\n",
       "      <td>Standard Class</td>\n",
       "      <td>RM-19375</td>\n",
       "      <td>Raymond Messe</td>\n",
       "      <td>Consumer</td>\n",
       "      <td>United States</td>\n",
       "      <td>Burlington</td>\n",
       "      <td>Vermont</td>\n",
       "      <td>NaN</td>\n",
       "      <td>East</td>\n",
       "      <td>OFF-PA-10001970</td>\n",
       "      <td>Office Supplies</td>\n",
       "      <td>Paper</td>\n",
       "      <td>Xerox 1881</td>\n",
       "      <td>12.28</td>\n",
       "    </tr>\n",
       "    <tr>\n",
       "      <th>9388</th>\n",
       "      <td>US-2018-127292</td>\n",
       "      <td>2018-01-19</td>\n",
       "      <td>2018-01-23</td>\n",
       "      <td>Standard Class</td>\n",
       "      <td>RM-19375</td>\n",
       "      <td>Raymond Messe</td>\n",
       "      <td>Consumer</td>\n",
       "      <td>United States</td>\n",
       "      <td>Burlington</td>\n",
       "      <td>Vermont</td>\n",
       "      <td>NaN</td>\n",
       "      <td>East</td>\n",
       "      <td>OFF-AP-10000828</td>\n",
       "      <td>Office Supplies</td>\n",
       "      <td>Appliances</td>\n",
       "      <td>Avanti 4.4 Cu. Ft. Refrigerator</td>\n",
       "      <td>542.94</td>\n",
       "    </tr>\n",
       "    <tr>\n",
       "      <th>9389</th>\n",
       "      <td>US-2018-127292</td>\n",
       "      <td>2018-01-19</td>\n",
       "      <td>2018-01-23</td>\n",
       "      <td>Standard Class</td>\n",
       "      <td>RM-19375</td>\n",
       "      <td>Raymond Messe</td>\n",
       "      <td>Consumer</td>\n",
       "      <td>United States</td>\n",
       "      <td>Burlington</td>\n",
       "      <td>Vermont</td>\n",
       "      <td>NaN</td>\n",
       "      <td>East</td>\n",
       "      <td>OFF-EN-10001509</td>\n",
       "      <td>Office Supplies</td>\n",
       "      <td>Envelopes</td>\n",
       "      <td>Poly String Tie Envelopes</td>\n",
       "      <td>2.04</td>\n",
       "    </tr>\n",
       "    <tr>\n",
       "      <th>9741</th>\n",
       "      <td>CA-2016-117086</td>\n",
       "      <td>2016-08-11</td>\n",
       "      <td>2016-12-11</td>\n",
       "      <td>Standard Class</td>\n",
       "      <td>QJ-19255</td>\n",
       "      <td>Quincy Jones</td>\n",
       "      <td>Corporate</td>\n",
       "      <td>United States</td>\n",
       "      <td>Burlington</td>\n",
       "      <td>Vermont</td>\n",
       "      <td>NaN</td>\n",
       "      <td>East</td>\n",
       "      <td>FUR-BO-10004834</td>\n",
       "      <td>Furniture</td>\n",
       "      <td>Bookcases</td>\n",
       "      <td>Riverside Palais Royal Lawyers Bookcase, Royal...</td>\n",
       "      <td>4404.90</td>\n",
       "    </tr>\n",
       "  </tbody>\n",
       "</table>\n",
       "</div>"
      ],
      "text/plain": [
       "            Order_ID Order_Date  Ship_Date       Ship_Mode Customer_ID  \\\n",
       "2234  CA-2018-104066 2018-05-12 2018-10-12  Standard Class    QJ-19255   \n",
       "5274  CA-2016-162887 2016-07-11 2016-09-11    Second Class    SV-20785   \n",
       "8798  US-2017-150140 2017-06-04 2017-10-04  Standard Class    VM-21685   \n",
       "9146  US-2017-165505 2017-01-23 2017-01-27  Standard Class    CB-12535   \n",
       "9147  US-2017-165505 2017-01-23 2017-01-27  Standard Class    CB-12535   \n",
       "9148  US-2017-165505 2017-01-23 2017-01-27  Standard Class    CB-12535   \n",
       "9386  US-2018-127292 2018-01-19 2018-01-23  Standard Class    RM-19375   \n",
       "9387  US-2018-127292 2018-01-19 2018-01-23  Standard Class    RM-19375   \n",
       "9388  US-2018-127292 2018-01-19 2018-01-23  Standard Class    RM-19375   \n",
       "9389  US-2018-127292 2018-01-19 2018-01-23  Standard Class    RM-19375   \n",
       "9741  CA-2016-117086 2016-08-11 2016-12-11  Standard Class    QJ-19255   \n",
       "\n",
       "         Customer_Name      Segment        Country        City    State  \\\n",
       "2234      Quincy Jones    Corporate  United States  Burlington  Vermont   \n",
       "5274  Stewart Visinsky     Consumer  United States  Burlington  Vermont   \n",
       "8798   Valerie Mitchum  Home Office  United States  Burlington  Vermont   \n",
       "9146  Claudia Bergmann    Corporate  United States  Burlington  Vermont   \n",
       "9147  Claudia Bergmann    Corporate  United States  Burlington  Vermont   \n",
       "9148  Claudia Bergmann    Corporate  United States  Burlington  Vermont   \n",
       "9386     Raymond Messe     Consumer  United States  Burlington  Vermont   \n",
       "9387     Raymond Messe     Consumer  United States  Burlington  Vermont   \n",
       "9388     Raymond Messe     Consumer  United States  Burlington  Vermont   \n",
       "9389     Raymond Messe     Consumer  United States  Burlington  Vermont   \n",
       "9741      Quincy Jones    Corporate  United States  Burlington  Vermont   \n",
       "\n",
       "      Postal_Code Region       Product_ID         Category Sub_Category  \\\n",
       "2234          NaN   East  TEC-AC-10001013       Technology  Accessories   \n",
       "5274          NaN   East  FUR-CH-10000595        Furniture       Chairs   \n",
       "8798          NaN   East  TEC-PH-10002555       Technology       Phones   \n",
       "9146          NaN   East  TEC-AC-10002926       Technology  Accessories   \n",
       "9147          NaN   East  OFF-AR-10003477  Office Supplies          Art   \n",
       "9148          NaN   East  OFF-ST-10001526  Office Supplies      Storage   \n",
       "9386          NaN   East  OFF-PA-10000157  Office Supplies        Paper   \n",
       "9387          NaN   East  OFF-PA-10001970  Office Supplies        Paper   \n",
       "9388          NaN   East  OFF-AP-10000828  Office Supplies   Appliances   \n",
       "9389          NaN   East  OFF-EN-10001509  Office Supplies    Envelopes   \n",
       "9741          NaN   East  FUR-BO-10004834        Furniture    Bookcases   \n",
       "\n",
       "                                           Product_Name    Sales  \n",
       "2234        Logitech ClearChat Comfort/USB Headset H390   205.03  \n",
       "5274                    Safco Contoured Stacking Chairs   715.20  \n",
       "8798                Nortel Meridian M5316 Digital phone  1294.75  \n",
       "9146              Logitech Wireless Marathon Mouse M705    99.98  \n",
       "9147                                  4009 Highlighters     8.04  \n",
       "9148              Iceberg Mobile Mega Data/Printer Cart  1564.29  \n",
       "9386                                          Xerox 191    79.92  \n",
       "9387                                         Xerox 1881    12.28  \n",
       "9388                    Avanti 4.4 Cu. Ft. Refrigerator   542.94  \n",
       "9389                          Poly String Tie Envelopes     2.04  \n",
       "9741  Riverside Palais Royal Lawyers Bookcase, Royal...  4404.90  "
      ]
     },
     "execution_count": 12,
     "metadata": {},
     "output_type": "execute_result"
    }
   ],
   "source": [
    "dfnull\n",
    "#all missing postal codes are from Burlington, Vermont. This city has 5 postal codes and we arent sure which one to use so we will skip for now."
   ]
  },
  {
   "cell_type": "markdown",
   "id": "f2afc746",
   "metadata": {
    "papermill": {
     "duration": 0.028291,
     "end_time": "2021-10-22T21:52:21.334819",
     "exception": false,
     "start_time": "2021-10-22T21:52:21.306528",
     "status": "completed"
    },
    "tags": []
   },
   "source": [
    "# **Analysis**"
   ]
  },
  {
   "cell_type": "markdown",
   "id": "a8f7e008",
   "metadata": {
    "papermill": {
     "duration": 0.028351,
     "end_time": "2021-10-22T21:52:21.392076",
     "exception": false,
     "start_time": "2021-10-22T21:52:21.363725",
     "status": "completed"
    },
    "tags": []
   },
   "source": [
    "# **SALES**"
   ]
  },
  {
   "cell_type": "markdown",
   "id": "68eda5c6",
   "metadata": {
    "papermill": {
     "duration": 0.028287,
     "end_time": "2021-10-22T21:52:21.449340",
     "exception": false,
     "start_time": "2021-10-22T21:52:21.421053",
     "status": "completed"
    },
    "tags": []
   },
   "source": [
    "## **Sales Percentages by Category**"
   ]
  },
  {
   "cell_type": "code",
   "execution_count": 13,
   "id": "5415611a",
   "metadata": {
    "execution": {
     "iopub.execute_input": "2021-10-22T21:52:21.510381Z",
     "iopub.status.busy": "2021-10-22T21:52:21.509645Z",
     "iopub.status.idle": "2021-10-22T21:52:21.517906Z",
     "shell.execute_reply": "2021-10-22T21:52:21.518475Z",
     "shell.execute_reply.started": "2021-10-22T19:58:37.575759Z"
    },
    "papermill": {
     "duration": 0.040423,
     "end_time": "2021-10-22T21:52:21.518651",
     "exception": false,
     "start_time": "2021-10-22T21:52:21.478228",
     "status": "completed"
    },
    "tags": []
   },
   "outputs": [
    {
     "data": {
      "text/plain": [
       "Office Supplies    0.602959\n",
       "Furniture          0.212041\n",
       "Technology         0.185000\n",
       "Name: Category, dtype: float64"
      ]
     },
     "execution_count": 13,
     "metadata": {},
     "output_type": "execute_result"
    }
   ],
   "source": [
    "#calculate percentage of sales from each categgory\n",
    "df.Category.value_counts(normalize=True)"
   ]
  },
  {
   "cell_type": "code",
   "execution_count": 14,
   "id": "c6b9ecca",
   "metadata": {
    "execution": {
     "iopub.execute_input": "2021-10-22T21:52:21.580427Z",
     "iopub.status.busy": "2021-10-22T21:52:21.579721Z",
     "iopub.status.idle": "2021-10-22T21:52:21.912111Z",
     "shell.execute_reply": "2021-10-22T21:52:21.912682Z",
     "shell.execute_reply.started": "2021-10-22T19:58:37.593926Z"
    },
    "papermill": {
     "duration": 0.36498,
     "end_time": "2021-10-22T21:52:21.912879",
     "exception": false,
     "start_time": "2021-10-22T21:52:21.547899",
     "status": "completed"
    },
    "tags": []
   },
   "outputs": [
    {
     "data": {
      "image/png": "[encoded data removed]",
      "text/plain": [
       "<Figure size 432x288 with 1 Axes>"
      ]
     },
     "metadata": {
      "needs_background": "light"
     },
     "output_type": "display_data"
    }
   ],
   "source": [
    "#plot this as a bar graph\n",
    "df.Category.value_counts(normalize=True).plot.barh()\n",
    "plt.show()"
   ]
  },
  {
   "cell_type": "markdown",
   "id": "77e586f9",
   "metadata": {
    "papermill": {
     "duration": 0.029501,
     "end_time": "2021-10-22T21:52:21.972174",
     "exception": false,
     "start_time": "2021-10-22T21:52:21.942673",
     "status": "completed"
    },
    "tags": []
   },
   "source": []
  },
  {
   "cell_type": "code",
   "execution_count": 15,
   "id": "a9bafca8",
   "metadata": {
    "execution": {
     "iopub.execute_input": "2021-10-22T21:52:22.035680Z",
     "iopub.status.busy": "2021-10-22T21:52:22.034968Z",
     "iopub.status.idle": "2021-10-22T21:52:22.048164Z",
     "shell.execute_reply": "2021-10-22T21:52:22.048713Z",
     "shell.execute_reply.started": "2021-10-22T20:10:01.651739Z"
    },
    "papermill": {
     "duration": 0.046741,
     "end_time": "2021-10-22T21:52:22.048903",
     "exception": false,
     "start_time": "2021-10-22T21:52:22.002162",
     "status": "completed"
    },
    "tags": []
   },
   "outputs": [
    {
     "data": {
      "text/plain": [
       "count       3.000000\n",
       "mean     3266.666667\n",
       "std      2292.160626\n",
       "min      1813.000000\n",
       "25%      1945.500000\n",
       "50%      2078.000000\n",
       "75%      3993.500000\n",
       "max      5909.000000\n",
       "Name: Category, dtype: float64"
      ]
     },
     "execution_count": 15,
     "metadata": {},
     "output_type": "execute_result"
    }
   ],
   "source": [
    "#run univariate categorical analysis\n",
    "category_count = df.Category.value_counts()\n",
    "category_count.describe()"
   ]
  },
  {
   "cell_type": "markdown",
   "id": "9243c419",
   "metadata": {
    "papermill": {
     "duration": 0.03005,
     "end_time": "2021-10-22T21:52:22.109336",
     "exception": false,
     "start_time": "2021-10-22T21:52:22.079286",
     "status": "completed"
    },
    "tags": []
   },
   "source": [
    "## **Sales Percentages by Sub_Category**"
   ]
  },
  {
   "cell_type": "code",
   "execution_count": 16,
   "id": "b9f8a660",
   "metadata": {
    "execution": {
     "iopub.execute_input": "2021-10-22T21:52:22.172613Z",
     "iopub.status.busy": "2021-10-22T21:52:22.171923Z",
     "iopub.status.idle": "2021-10-22T21:52:22.181175Z",
     "shell.execute_reply": "2021-10-22T21:52:22.181739Z",
     "shell.execute_reply.started": "2021-10-22T19:58:37.852613Z"
    },
    "papermill": {
     "duration": 0.042501,
     "end_time": "2021-10-22T21:52:22.181940",
     "exception": false,
     "start_time": "2021-10-22T21:52:22.139439",
     "status": "completed"
    },
    "tags": []
   },
   "outputs": [
    {
     "data": {
      "text/plain": [
       "Binders        0.152245\n",
       "Paper          0.136531\n",
       "Furnishings    0.095000\n",
       "Phones         0.089388\n",
       "Storage        0.084898\n",
       "Art            0.080102\n",
       "Accessories    0.077143\n",
       "Chairs         0.061939\n",
       "Appliances     0.046837\n",
       "Labels         0.036429\n",
       "Tables         0.032041\n",
       "Envelopes      0.025306\n",
       "Bookcases      0.023061\n",
       "Fasteners      0.021837\n",
       "Supplies       0.018776\n",
       "Machines       0.011735\n",
       "Copiers        0.006735\n",
       "Name: Sub_Category, dtype: float64"
      ]
     },
     "execution_count": 16,
     "metadata": {},
     "output_type": "execute_result"
    }
   ],
   "source": [
    "#calculate percentage of sales from each categgory\n",
    "df.Sub_Category.value_counts(normalize=True)"
   ]
  },
  {
   "cell_type": "code",
   "execution_count": 17,
   "id": "acdc10c7",
   "metadata": {
    "execution": {
     "iopub.execute_input": "2021-10-22T21:52:22.246121Z",
     "iopub.status.busy": "2021-10-22T21:52:22.245392Z",
     "iopub.status.idle": "2021-10-22T21:52:22.469751Z",
     "shell.execute_reply": "2021-10-22T21:52:22.470229Z",
     "shell.execute_reply.started": "2021-10-22T19:59:10.102001Z"
    },
    "papermill": {
     "duration": 0.25803,
     "end_time": "2021-10-22T21:52:22.470411",
     "exception": false,
     "start_time": "2021-10-22T21:52:22.212381",
     "status": "completed"
    },
    "tags": []
   },
   "outputs": [
    {
     "data": {
      "text/plain": [
       "<AxesSubplot:ylabel='Sub_Category'>"
      ]
     },
     "execution_count": 17,
     "metadata": {},
     "output_type": "execute_result"
    },
    {
     "data": {
      "image/png": "[encoded data removed]",
      "text/plain": [
       "<Figure size 432x432 with 1 Axes>"
      ]
     },
     "metadata": {},
     "output_type": "display_data"
    }
   ],
   "source": [
    "#plot this as a pie chart\n",
    "subcatpieplot = df.Sub_Category.value_counts().plot.pie(figsize=(6,6))\n",
    "subcatpieplot"
   ]
  },
  {
   "cell_type": "code",
   "execution_count": 18,
   "id": "f2efa1af",
   "metadata": {
    "execution": {
     "iopub.execute_input": "2021-10-22T21:52:22.539166Z",
     "iopub.status.busy": "2021-10-22T21:52:22.538497Z",
     "iopub.status.idle": "2021-10-22T21:52:22.549451Z",
     "shell.execute_reply": "2021-10-22T21:52:22.550069Z",
     "shell.execute_reply.started": "2021-10-22T20:11:02.965983Z"
    },
    "papermill": {
     "duration": 0.047543,
     "end_time": "2021-10-22T21:52:22.550242",
     "exception": false,
     "start_time": "2021-10-22T21:52:22.502699",
     "status": "completed"
    },
    "tags": []
   },
   "outputs": [
    {
     "data": {
      "text/plain": [
       "count      17.000000\n",
       "mean      576.470588\n",
       "std       425.441406\n",
       "min        66.000000\n",
       "25%       226.000000\n",
       "50%       459.000000\n",
       "75%       832.000000\n",
       "max      1492.000000\n",
       "Name: Sub_Category, dtype: float64"
      ]
     },
     "execution_count": 18,
     "metadata": {},
     "output_type": "execute_result"
    }
   ],
   "source": [
    "#run univariate categorical analysis\n",
    "subcategory_count = df.Sub_Category.value_counts()\n",
    "subcategory_count.describe()"
   ]
  },
  {
   "cell_type": "markdown",
   "id": "375e5252",
   "metadata": {
    "papermill": {
     "duration": 0.03198,
     "end_time": "2021-10-22T21:52:22.614463",
     "exception": false,
     "start_time": "2021-10-22T21:52:22.582483",
     "status": "completed"
    },
    "tags": []
   },
   "source": [
    "## **Top 5 Sub-Categories in each Category by Sales**"
   ]
  },
  {
   "cell_type": "code",
   "execution_count": 19,
   "id": "6a0969e3",
   "metadata": {
    "execution": {
     "iopub.execute_input": "2021-10-22T21:52:22.682730Z",
     "iopub.status.busy": "2021-10-22T21:52:22.682051Z",
     "iopub.status.idle": "2021-10-22T21:52:22.707063Z",
     "shell.execute_reply": "2021-10-22T21:52:22.706374Z",
     "shell.execute_reply.started": "2021-10-22T21:24:30.024623Z"
    },
    "papermill": {
     "duration": 0.060087,
     "end_time": "2021-10-22T21:52:22.707214",
     "exception": false,
     "start_time": "2021-10-22T21:52:22.647127",
     "status": "completed"
    },
    "tags": []
   },
   "outputs": [
    {
     "data": {
      "text/html": [
       "<div>\n",
       "<style scoped>\n",
       "    .dataframe tbody tr th:only-of-type {\n",
       "        vertical-align: middle;\n",
       "    }\n",
       "\n",
       "    .dataframe tbody tr th {\n",
       "        vertical-align: top;\n",
       "    }\n",
       "\n",
       "    .dataframe thead th {\n",
       "        text-align: right;\n",
       "    }\n",
       "</style>\n",
       "<table border=\"1\" class=\"dataframe\">\n",
       "  <thead>\n",
       "    <tr style=\"text-align: right;\">\n",
       "      <th></th>\n",
       "      <th></th>\n",
       "      <th>Sales</th>\n",
       "    </tr>\n",
       "    <tr>\n",
       "      <th>Category</th>\n",
       "      <th>Sub_Category</th>\n",
       "      <th></th>\n",
       "    </tr>\n",
       "  </thead>\n",
       "  <tbody>\n",
       "    <tr>\n",
       "      <th rowspan=\"4\" valign=\"top\">Furniture</th>\n",
       "      <th>Bookcases</th>\n",
       "      <td>113813.1987</td>\n",
       "    </tr>\n",
       "    <tr>\n",
       "      <th>Chairs</th>\n",
       "      <td>322822.7310</td>\n",
       "    </tr>\n",
       "    <tr>\n",
       "      <th>Furnishings</th>\n",
       "      <td>89212.0180</td>\n",
       "    </tr>\n",
       "    <tr>\n",
       "      <th>Tables</th>\n",
       "      <td>202810.6280</td>\n",
       "    </tr>\n",
       "    <tr>\n",
       "      <th rowspan=\"5\" valign=\"top\">Office Supplies</th>\n",
       "      <th>Appliances</th>\n",
       "      <td>104618.4030</td>\n",
       "    </tr>\n",
       "    <tr>\n",
       "      <th>Binders</th>\n",
       "      <td>200028.7850</td>\n",
       "    </tr>\n",
       "    <tr>\n",
       "      <th>Paper</th>\n",
       "      <td>76828.3040</td>\n",
       "    </tr>\n",
       "    <tr>\n",
       "      <th>Storage</th>\n",
       "      <td>219343.3920</td>\n",
       "    </tr>\n",
       "    <tr>\n",
       "      <th>Supplies</th>\n",
       "      <td>46420.3080</td>\n",
       "    </tr>\n",
       "    <tr>\n",
       "      <th rowspan=\"4\" valign=\"top\">Technology</th>\n",
       "      <th>Accessories</th>\n",
       "      <td>164186.7000</td>\n",
       "    </tr>\n",
       "    <tr>\n",
       "      <th>Copiers</th>\n",
       "      <td>146248.0940</td>\n",
       "    </tr>\n",
       "    <tr>\n",
       "      <th>Machines</th>\n",
       "      <td>189238.6310</td>\n",
       "    </tr>\n",
       "    <tr>\n",
       "      <th>Phones</th>\n",
       "      <td>327782.4480</td>\n",
       "    </tr>\n",
       "  </tbody>\n",
       "</table>\n",
       "</div>"
      ],
      "text/plain": [
       "                                    Sales\n",
       "Category        Sub_Category             \n",
       "Furniture       Bookcases     113813.1987\n",
       "                Chairs        322822.7310\n",
       "                Furnishings    89212.0180\n",
       "                Tables        202810.6280\n",
       "Office Supplies Appliances    104618.4030\n",
       "                Binders       200028.7850\n",
       "                Paper          76828.3040\n",
       "                Storage       219343.3920\n",
       "                Supplies       46420.3080\n",
       "Technology      Accessories   164186.7000\n",
       "                Copiers       146248.0940\n",
       "                Machines      189238.6310\n",
       "                Phones        327782.4480"
      ]
     },
     "execution_count": 19,
     "metadata": {},
     "output_type": "execute_result"
    }
   ],
   "source": [
    "df_subcat = df.groupby(['Category', 'Sub_Category']).agg({'Sales' : sum})\n",
    "df_subcat.sort_values(by='Sales', ascending=False).groupby('Category').head(5).sort_index()"
   ]
  },
  {
   "cell_type": "markdown",
   "id": "3658bb96",
   "metadata": {
    "papermill": {
     "duration": 0.032406,
     "end_time": "2021-10-22T21:52:22.772722",
     "exception": false,
     "start_time": "2021-10-22T21:52:22.740316",
     "status": "completed"
    },
    "tags": []
   },
   "source": [
    "## **Sales by City**"
   ]
  },
  {
   "cell_type": "code",
   "execution_count": 20,
   "id": "c70f8cda",
   "metadata": {
    "execution": {
     "iopub.execute_input": "2021-10-22T21:52:22.842242Z",
     "iopub.status.busy": "2021-10-22T21:52:22.841514Z",
     "iopub.status.idle": "2021-10-22T21:52:22.855871Z",
     "shell.execute_reply": "2021-10-22T21:52:22.856437Z",
     "shell.execute_reply.started": "2021-10-22T20:36:17.481585Z"
    },
    "papermill": {
     "duration": 0.050482,
     "end_time": "2021-10-22T21:52:22.856614",
     "exception": false,
     "start_time": "2021-10-22T21:52:22.806132",
     "status": "completed"
    },
    "tags": []
   },
   "outputs": [
    {
     "data": {
      "text/html": [
       "<div>\n",
       "<style scoped>\n",
       "    .dataframe tbody tr th:only-of-type {\n",
       "        vertical-align: middle;\n",
       "    }\n",
       "\n",
       "    .dataframe tbody tr th {\n",
       "        vertical-align: top;\n",
       "    }\n",
       "\n",
       "    .dataframe thead th {\n",
       "        text-align: right;\n",
       "    }\n",
       "</style>\n",
       "<table border=\"1\" class=\"dataframe\">\n",
       "  <thead>\n",
       "    <tr style=\"text-align: right;\">\n",
       "      <th></th>\n",
       "      <th>Sales</th>\n",
       "    </tr>\n",
       "    <tr>\n",
       "      <th>City</th>\n",
       "      <th></th>\n",
       "    </tr>\n",
       "  </thead>\n",
       "  <tbody>\n",
       "    <tr>\n",
       "      <th>New York City</th>\n",
       "      <td>252462.5470</td>\n",
       "    </tr>\n",
       "    <tr>\n",
       "      <th>Los Angeles</th>\n",
       "      <td>173420.1810</td>\n",
       "    </tr>\n",
       "    <tr>\n",
       "      <th>Seattle</th>\n",
       "      <td>116106.3220</td>\n",
       "    </tr>\n",
       "    <tr>\n",
       "      <th>San Francisco</th>\n",
       "      <td>109041.1200</td>\n",
       "    </tr>\n",
       "    <tr>\n",
       "      <th>Philadelphia</th>\n",
       "      <td>108841.7490</td>\n",
       "    </tr>\n",
       "    <tr>\n",
       "      <th>Houston</th>\n",
       "      <td>63956.1428</td>\n",
       "    </tr>\n",
       "    <tr>\n",
       "      <th>Chicago</th>\n",
       "      <td>47820.1330</td>\n",
       "    </tr>\n",
       "    <tr>\n",
       "      <th>San Diego</th>\n",
       "      <td>47521.0290</td>\n",
       "    </tr>\n",
       "    <tr>\n",
       "      <th>Jacksonville</th>\n",
       "      <td>44713.1830</td>\n",
       "    </tr>\n",
       "    <tr>\n",
       "      <th>Detroit</th>\n",
       "      <td>42446.9440</td>\n",
       "    </tr>\n",
       "  </tbody>\n",
       "</table>\n",
       "</div>"
      ],
      "text/plain": [
       "                     Sales\n",
       "City                      \n",
       "New York City  252462.5470\n",
       "Los Angeles    173420.1810\n",
       "Seattle        116106.3220\n",
       "San Francisco  109041.1200\n",
       "Philadelphia   108841.7490\n",
       "Houston         63956.1428\n",
       "Chicago         47820.1330\n",
       "San Diego       47521.0290\n",
       "Jacksonville    44713.1830\n",
       "Detroit         42446.9440"
      ]
     },
     "execution_count": 20,
     "metadata": {},
     "output_type": "execute_result"
    }
   ],
   "source": [
    "#top 10 cities by sale\n",
    "df.groupby('City').agg({'Sales' : sum}).sort_values(by = 'Sales', ascending=False).head(10)"
   ]
  },
  {
   "cell_type": "code",
   "execution_count": 21,
   "id": "33a4420d",
   "metadata": {
    "execution": {
     "iopub.execute_input": "2021-10-22T21:52:22.927055Z",
     "iopub.status.busy": "2021-10-22T21:52:22.926406Z",
     "iopub.status.idle": "2021-10-22T21:52:22.939807Z",
     "shell.execute_reply": "2021-10-22T21:52:22.940290Z",
     "shell.execute_reply.started": "2021-10-22T20:37:28.892500Z"
    },
    "papermill": {
     "duration": 0.050319,
     "end_time": "2021-10-22T21:52:22.940467",
     "exception": false,
     "start_time": "2021-10-22T21:52:22.890148",
     "status": "completed"
    },
    "tags": []
   },
   "outputs": [
    {
     "data": {
      "text/html": [
       "<div>\n",
       "<style scoped>\n",
       "    .dataframe tbody tr th:only-of-type {\n",
       "        vertical-align: middle;\n",
       "    }\n",
       "\n",
       "    .dataframe tbody tr th {\n",
       "        vertical-align: top;\n",
       "    }\n",
       "\n",
       "    .dataframe thead th {\n",
       "        text-align: right;\n",
       "    }\n",
       "</style>\n",
       "<table border=\"1\" class=\"dataframe\">\n",
       "  <thead>\n",
       "    <tr style=\"text-align: right;\">\n",
       "      <th></th>\n",
       "      <th>Sales</th>\n",
       "    </tr>\n",
       "    <tr>\n",
       "      <th>City</th>\n",
       "      <th></th>\n",
       "    </tr>\n",
       "  </thead>\n",
       "  <tbody>\n",
       "    <tr>\n",
       "      <th>Abilene</th>\n",
       "      <td>1.392</td>\n",
       "    </tr>\n",
       "    <tr>\n",
       "      <th>Elyria</th>\n",
       "      <td>1.824</td>\n",
       "    </tr>\n",
       "    <tr>\n",
       "      <th>Jupiter</th>\n",
       "      <td>2.064</td>\n",
       "    </tr>\n",
       "    <tr>\n",
       "      <th>Pensacola</th>\n",
       "      <td>2.214</td>\n",
       "    </tr>\n",
       "    <tr>\n",
       "      <th>Ormond Beach</th>\n",
       "      <td>2.808</td>\n",
       "    </tr>\n",
       "    <tr>\n",
       "      <th>San Luis Obispo</th>\n",
       "      <td>3.620</td>\n",
       "    </tr>\n",
       "    <tr>\n",
       "      <th>Springdale</th>\n",
       "      <td>4.300</td>\n",
       "    </tr>\n",
       "    <tr>\n",
       "      <th>Layton</th>\n",
       "      <td>4.960</td>\n",
       "    </tr>\n",
       "    <tr>\n",
       "      <th>Keller</th>\n",
       "      <td>6.000</td>\n",
       "    </tr>\n",
       "    <tr>\n",
       "      <th>Missouri City</th>\n",
       "      <td>6.370</td>\n",
       "    </tr>\n",
       "  </tbody>\n",
       "</table>\n",
       "</div>"
      ],
      "text/plain": [
       "                 Sales\n",
       "City                  \n",
       "Abilene          1.392\n",
       "Elyria           1.824\n",
       "Jupiter          2.064\n",
       "Pensacola        2.214\n",
       "Ormond Beach     2.808\n",
       "San Luis Obispo  3.620\n",
       "Springdale       4.300\n",
       "Layton           4.960\n",
       "Keller           6.000\n",
       "Missouri City    6.370"
      ]
     },
     "execution_count": 21,
     "metadata": {},
     "output_type": "execute_result"
    }
   ],
   "source": [
    "#bottom cities by sale\n",
    "df.groupby('City').agg({'Sales' : sum}).sort_values(by = 'Sales', ascending=True).head(10)"
   ]
  },
  {
   "cell_type": "markdown",
   "id": "975236e2",
   "metadata": {
    "papermill": {
     "duration": 0.034009,
     "end_time": "2021-10-22T21:52:23.008284",
     "exception": false,
     "start_time": "2021-10-22T21:52:22.974275",
     "status": "completed"
    },
    "tags": []
   },
   "source": [
    "## **Top 10 States by Sales Total**"
   ]
  },
  {
   "cell_type": "code",
   "execution_count": 22,
   "id": "1ba11bda",
   "metadata": {
    "execution": {
     "iopub.execute_input": "2021-10-22T21:52:23.080586Z",
     "iopub.status.busy": "2021-10-22T21:52:23.079903Z",
     "iopub.status.idle": "2021-10-22T21:52:23.092920Z",
     "shell.execute_reply": "2021-10-22T21:52:23.093433Z",
     "shell.execute_reply.started": "2021-10-22T20:53:34.456024Z"
    },
    "papermill": {
     "duration": 0.051041,
     "end_time": "2021-10-22T21:52:23.093616",
     "exception": false,
     "start_time": "2021-10-22T21:52:23.042575",
     "status": "completed"
    },
    "tags": []
   },
   "outputs": [
    {
     "data": {
      "text/html": [
       "<div>\n",
       "<style scoped>\n",
       "    .dataframe tbody tr th:only-of-type {\n",
       "        vertical-align: middle;\n",
       "    }\n",
       "\n",
       "    .dataframe tbody tr th {\n",
       "        vertical-align: top;\n",
       "    }\n",
       "\n",
       "    .dataframe thead th {\n",
       "        text-align: right;\n",
       "    }\n",
       "</style>\n",
       "<table border=\"1\" class=\"dataframe\">\n",
       "  <thead>\n",
       "    <tr style=\"text-align: right;\">\n",
       "      <th></th>\n",
       "      <th>Sales</th>\n",
       "    </tr>\n",
       "    <tr>\n",
       "      <th>State</th>\n",
       "      <th></th>\n",
       "    </tr>\n",
       "  </thead>\n",
       "  <tbody>\n",
       "    <tr>\n",
       "      <th>California</th>\n",
       "      <td>446306.4635</td>\n",
       "    </tr>\n",
       "    <tr>\n",
       "      <th>New York</th>\n",
       "      <td>306361.1470</td>\n",
       "    </tr>\n",
       "    <tr>\n",
       "      <th>Texas</th>\n",
       "      <td>168572.5322</td>\n",
       "    </tr>\n",
       "    <tr>\n",
       "      <th>Washington</th>\n",
       "      <td>135206.8500</td>\n",
       "    </tr>\n",
       "    <tr>\n",
       "      <th>Pennsylvania</th>\n",
       "      <td>116276.6500</td>\n",
       "    </tr>\n",
       "    <tr>\n",
       "      <th>Florida</th>\n",
       "      <td>88436.5320</td>\n",
       "    </tr>\n",
       "    <tr>\n",
       "      <th>Illinois</th>\n",
       "      <td>79236.5170</td>\n",
       "    </tr>\n",
       "    <tr>\n",
       "      <th>Michigan</th>\n",
       "      <td>76136.0740</td>\n",
       "    </tr>\n",
       "    <tr>\n",
       "      <th>Ohio</th>\n",
       "      <td>75130.3500</td>\n",
       "    </tr>\n",
       "    <tr>\n",
       "      <th>Virginia</th>\n",
       "      <td>70636.7200</td>\n",
       "    </tr>\n",
       "  </tbody>\n",
       "</table>\n",
       "</div>"
      ],
      "text/plain": [
       "                    Sales\n",
       "State                    \n",
       "California    446306.4635\n",
       "New York      306361.1470\n",
       "Texas         168572.5322\n",
       "Washington    135206.8500\n",
       "Pennsylvania  116276.6500\n",
       "Florida        88436.5320\n",
       "Illinois       79236.5170\n",
       "Michigan       76136.0740\n",
       "Ohio           75130.3500\n",
       "Virginia       70636.7200"
      ]
     },
     "execution_count": 22,
     "metadata": {},
     "output_type": "execute_result"
    }
   ],
   "source": [
    "#top 10 states by sale\n",
    "df.groupby('State').agg({'Sales' : sum}).sort_values(by = 'Sales', ascending=False).head(10)"
   ]
  },
  {
   "cell_type": "markdown",
   "id": "b16a79a7",
   "metadata": {
    "papermill": {
     "duration": 0.033983,
     "end_time": "2021-10-22T21:52:23.163360",
     "exception": false,
     "start_time": "2021-10-22T21:52:23.129377",
     "status": "completed"
    },
    "tags": []
   },
   "source": [
    "## **Total Sales by Region**"
   ]
  },
  {
   "cell_type": "code",
   "execution_count": 23,
   "id": "a075f4aa",
   "metadata": {
    "execution": {
     "iopub.execute_input": "2021-10-22T21:52:23.234983Z",
     "iopub.status.busy": "2021-10-22T21:52:23.234272Z",
     "iopub.status.idle": "2021-10-22T21:52:23.246360Z",
     "shell.execute_reply": "2021-10-22T21:52:23.246898Z",
     "shell.execute_reply.started": "2021-10-22T20:56:02.497746Z"
    },
    "papermill": {
     "duration": 0.049779,
     "end_time": "2021-10-22T21:52:23.247095",
     "exception": false,
     "start_time": "2021-10-22T21:52:23.197316",
     "status": "completed"
    },
    "tags": []
   },
   "outputs": [
    {
     "data": {
      "text/html": [
       "<div>\n",
       "<style scoped>\n",
       "    .dataframe tbody tr th:only-of-type {\n",
       "        vertical-align: middle;\n",
       "    }\n",
       "\n",
       "    .dataframe tbody tr th {\n",
       "        vertical-align: top;\n",
       "    }\n",
       "\n",
       "    .dataframe thead th {\n",
       "        text-align: right;\n",
       "    }\n",
       "</style>\n",
       "<table border=\"1\" class=\"dataframe\">\n",
       "  <thead>\n",
       "    <tr style=\"text-align: right;\">\n",
       "      <th></th>\n",
       "      <th>Sales</th>\n",
       "    </tr>\n",
       "    <tr>\n",
       "      <th>Region</th>\n",
       "      <th></th>\n",
       "    </tr>\n",
       "  </thead>\n",
       "  <tbody>\n",
       "    <tr>\n",
       "      <th>West</th>\n",
       "      <td>710219.6845</td>\n",
       "    </tr>\n",
       "    <tr>\n",
       "      <th>East</th>\n",
       "      <td>669518.7260</td>\n",
       "    </tr>\n",
       "    <tr>\n",
       "      <th>Central</th>\n",
       "      <td>492646.9132</td>\n",
       "    </tr>\n",
       "    <tr>\n",
       "      <th>South</th>\n",
       "      <td>389151.4590</td>\n",
       "    </tr>\n",
       "  </tbody>\n",
       "</table>\n",
       "</div>"
      ],
      "text/plain": [
       "               Sales\n",
       "Region              \n",
       "West     710219.6845\n",
       "East     669518.7260\n",
       "Central  492646.9132\n",
       "South    389151.4590"
      ]
     },
     "execution_count": 23,
     "metadata": {},
     "output_type": "execute_result"
    }
   ],
   "source": [
    "df.groupby('Region').agg({'Sales' : sum}).sort_values(by = 'Sales', ascending=False)"
   ]
  },
  {
   "cell_type": "markdown",
   "id": "7a7f457f",
   "metadata": {
    "papermill": {
     "duration": 0.034545,
     "end_time": "2021-10-22T21:52:23.316232",
     "exception": false,
     "start_time": "2021-10-22T21:52:23.281687",
     "status": "completed"
    },
    "tags": []
   },
   "source": [
    "## **Best Months for Sales**"
   ]
  },
  {
   "cell_type": "code",
   "execution_count": 24,
   "id": "47ef2b2b",
   "metadata": {
    "execution": {
     "iopub.execute_input": "2021-10-22T21:52:23.454155Z",
     "iopub.status.busy": "2021-10-22T21:52:23.453437Z",
     "iopub.status.idle": "2021-10-22T21:52:23.465701Z",
     "shell.execute_reply": "2021-10-22T21:52:23.466248Z",
     "shell.execute_reply.started": "2021-10-22T21:35:02.502727Z"
    },
    "papermill": {
     "duration": 0.051269,
     "end_time": "2021-10-22T21:52:23.466446",
     "exception": false,
     "start_time": "2021-10-22T21:52:23.415177",
     "status": "completed"
    },
    "tags": []
   },
   "outputs": [],
   "source": [
    "#extract month/year from order date\n",
    "df['Month'] = df['Order_Date'].dt.month_name()\n",
    "df['Year'] = df['Order_Date'].dt.year\n"
   ]
  },
  {
   "cell_type": "code",
   "execution_count": 25,
   "id": "0cb2f689",
   "metadata": {
    "execution": {
     "iopub.execute_input": "2021-10-22T21:52:23.539942Z",
     "iopub.status.busy": "2021-10-22T21:52:23.539247Z",
     "iopub.status.idle": "2021-10-22T21:52:23.841775Z",
     "shell.execute_reply": "2021-10-22T21:52:23.842314Z",
     "shell.execute_reply.started": "2021-10-22T21:49:00.599402Z"
    },
    "papermill": {
     "duration": 0.341011,
     "end_time": "2021-10-22T21:52:23.842520",
     "exception": false,
     "start_time": "2021-10-22T21:52:23.501509",
     "status": "completed"
    },
    "tags": []
   },
   "outputs": [
    {
     "data": {
      "image/png": "[encoded data removed]",
      "text/plain": [
       "<Figure size 432x216 with 1 Axes>"
      ]
     },
     "metadata": {
      "needs_background": "light"
     },
     "output_type": "display_data"
    }
   ],
   "source": [
    "#Monthly Sales aggregate\n",
    "sale_month = df.groupby('Month').agg({'Sales' : sum}).sort_values(by='Month').plot.bar(figsize=(6,3))"
   ]
  },
  {
   "cell_type": "code",
   "execution_count": 26,
   "id": "eb7a37da",
   "metadata": {
    "execution": {
     "iopub.execute_input": "2021-10-22T21:52:23.919507Z",
     "iopub.status.busy": "2021-10-22T21:52:23.918754Z",
     "iopub.status.idle": "2021-10-22T21:52:23.946382Z",
     "shell.execute_reply": "2021-10-22T21:52:23.946945Z",
     "shell.execute_reply.started": "2021-10-22T21:49:12.372035Z"
    },
    "papermill": {
     "duration": 0.067736,
     "end_time": "2021-10-22T21:52:23.947120",
     "exception": false,
     "start_time": "2021-10-22T21:52:23.879384",
     "status": "completed"
    },
    "tags": []
   },
   "outputs": [
    {
     "name": "stdout",
     "output_type": "stream",
     "text": [
      "<class 'pandas.core.frame.DataFrame'>\n",
      "RangeIndex: 9800 entries, 0 to 9799\n",
      "Data columns (total 19 columns):\n",
      " #   Column         Non-Null Count  Dtype         \n",
      "---  ------         --------------  -----         \n",
      " 0   Order_ID       9800 non-null   object        \n",
      " 1   Order_Date     9800 non-null   datetime64[ns]\n",
      " 2   Ship_Date      9800 non-null   datetime64[ns]\n",
      " 3   Ship_Mode      9800 non-null   object        \n",
      " 4   Customer_ID    9800 non-null   object        \n",
      " 5   Customer_Name  9800 non-null   object        \n",
      " 6   Segment        9800 non-null   object        \n",
      " 7   Country        9800 non-null   object        \n",
      " 8   City           9800 non-null   object        \n",
      " 9   State          9800 non-null   object        \n",
      " 10  Postal_Code    9789 non-null   float64       \n",
      " 11  Region         9800 non-null   object        \n",
      " 12  Product_ID     9800 non-null   object        \n",
      " 13  Category       9800 non-null   object        \n",
      " 14  Sub_Category   9800 non-null   object        \n",
      " 15  Product_Name   9800 non-null   object        \n",
      " 16  Sales          9800 non-null   float64       \n",
      " 17  Month          9800 non-null   object        \n",
      " 18  Year           9800 non-null   int64         \n",
      "dtypes: datetime64[ns](2), float64(2), int64(1), object(14)\n",
      "memory usage: 1.4+ MB\n"
     ]
    }
   ],
   "source": [
    "df.info()"
   ]
  }
 ],
 "metadata": {
  "kernelspec": {
   "display_name": "Python 3",
   "language": "python",
   "name": "python3"
  },
  "language_info": {
   "codemirror_mode": {
    "name": "ipython",
    "version": 3
   },
   "file_extension": ".py",
   "mimetype": "text/x-python",
   "name": "python",
   "nbconvert_exporter": "python",
   "pygments_lexer": "ipython3",
   "version": "3.7.10"
  },
  "papermill": {
   "default_parameters": {},
   "duration": 16.106666,
   "end_time": "2021-10-22T21:52:24.694707",
   "environment_variables": {},
   "exception": null,
   "input_path": "__notebook__.ipynb",
   "output_path": "__notebook__.ipynb",
   "parameters": {},
   "start_time": "2021-10-22T21:52:08.588041",
   "version": "2.3.3"
  }
 },
 "nbformat": 4,
 "nbformat_minor": 5
}
